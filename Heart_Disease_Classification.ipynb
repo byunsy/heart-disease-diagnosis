{
  "nbformat": 4,
  "nbformat_minor": 0,
  "metadata": {
    "colab": {
      "name": "Heart_Disease_Classification.ipynb",
      "provenance": [],
      "collapsed_sections": [],
      "toc_visible": true,
      "authorship_tag": "ABX9TyO6FNrBmmFtnX36xjGglDBR",
      "include_colab_link": true
    },
    "kernelspec": {
      "name": "python3",
      "display_name": "Python 3"
    }
  },
  "cells": [
    {
      "cell_type": "markdown",
      "metadata": {
        "id": "view-in-github",
        "colab_type": "text"
      },
      "source": [
        "<a href=\"https://colab.research.google.com/github/byunsy/heart-disease-diagnosis/blob/main/Heart_Disease_Classification.ipynb\" target=\"_parent\"><img src=\"https://colab.research.google.com/assets/colab-badge.svg\" alt=\"Open In Colab\"/></a>"
      ]
    },
    {
      "cell_type": "markdown",
      "metadata": {
        "id": "F3pFppDFtTit"
      },
      "source": [
        "# Heart Disease Classification\n",
        "\n",
        "\n",
        "---\n",
        "\n"
      ]
    },
    {
      "cell_type": "markdown",
      "metadata": {
        "id": "TzcTwNTCtJ4w"
      },
      "source": [
        "## 01. Import Packages"
      ]
    },
    {
      "cell_type": "code",
      "metadata": {
        "id": "48t-8dpySODN"
      },
      "source": [
        "import os\n",
        "import numpy as np\n",
        "import pandas as pd\n",
        "import matplotlib.pyplot as plt\n",
        "import seaborn as sns\n",
        "\n",
        "from sklearn.linear_model import LogisticRegression\n",
        "from sklearn.model_selection import train_test_split"
      ],
      "execution_count": 1,
      "outputs": []
    },
    {
      "cell_type": "markdown",
      "metadata": {
        "id": "K-xKKsEltMtO"
      },
      "source": [
        "## 02. Upload Dataset"
      ]
    },
    {
      "cell_type": "markdown",
      "metadata": {
        "id": "GPXywJGATNpF"
      },
      "source": [
        "Unzip the uploaded dataset."
      ]
    },
    {
      "cell_type": "code",
      "metadata": {
        "colab": {
          "base_uri": "https://localhost:8080/"
        },
        "id": "8stXb7zfsaLo",
        "outputId": "2a69f180-fe85-4ffb-9637-dde4d9876197"
      },
      "source": [
        "!unzip /content/heart_disease.zip"
      ],
      "execution_count": 2,
      "outputs": [
        {
          "output_type": "stream",
          "text": [
            "Archive:  /content/heart_disease.zip\n",
            "  inflating: heart.csv               \n"
          ],
          "name": "stdout"
        }
      ]
    },
    {
      "cell_type": "markdown",
      "metadata": {
        "id": "K3DU4ptitbLi"
      },
      "source": [
        "## 03. Understanding the Data"
      ]
    },
    {
      "cell_type": "markdown",
      "metadata": {
        "id": "sdooiD8LTRJu"
      },
      "source": [
        "Read the csv file as a dataframe."
      ]
    },
    {
      "cell_type": "code",
      "metadata": {
        "id": "IoyPP0tKtd8E"
      },
      "source": [
        "df = pd.read_csv(\"/content/heart.csv\")"
      ],
      "execution_count": 3,
      "outputs": []
    },
    {
      "cell_type": "markdown",
      "metadata": {
        "id": "r7E1sYWYTaFy"
      },
      "source": [
        "Let's see what kind of data we have."
      ]
    },
    {
      "cell_type": "code",
      "metadata": {
        "colab": {
          "base_uri": "https://localhost:8080/",
          "height": 204
        },
        "id": "tgJEaiLhtp7Y",
        "outputId": "3ece2eb4-9e83-48ed-90bd-637300197579"
      },
      "source": [
        "df.head()"
      ],
      "execution_count": 4,
      "outputs": [
        {
          "output_type": "execute_result",
          "data": {
            "text/html": [
              "<div>\n",
              "<style scoped>\n",
              "    .dataframe tbody tr th:only-of-type {\n",
              "        vertical-align: middle;\n",
              "    }\n",
              "\n",
              "    .dataframe tbody tr th {\n",
              "        vertical-align: top;\n",
              "    }\n",
              "\n",
              "    .dataframe thead th {\n",
              "        text-align: right;\n",
              "    }\n",
              "</style>\n",
              "<table border=\"1\" class=\"dataframe\">\n",
              "  <thead>\n",
              "    <tr style=\"text-align: right;\">\n",
              "      <th></th>\n",
              "      <th>age</th>\n",
              "      <th>sex</th>\n",
              "      <th>cp</th>\n",
              "      <th>trestbps</th>\n",
              "      <th>chol</th>\n",
              "      <th>fbs</th>\n",
              "      <th>restecg</th>\n",
              "      <th>thalach</th>\n",
              "      <th>exang</th>\n",
              "      <th>oldpeak</th>\n",
              "      <th>slope</th>\n",
              "      <th>ca</th>\n",
              "      <th>thal</th>\n",
              "      <th>target</th>\n",
              "    </tr>\n",
              "  </thead>\n",
              "  <tbody>\n",
              "    <tr>\n",
              "      <th>0</th>\n",
              "      <td>63</td>\n",
              "      <td>1</td>\n",
              "      <td>3</td>\n",
              "      <td>145</td>\n",
              "      <td>233</td>\n",
              "      <td>1</td>\n",
              "      <td>0</td>\n",
              "      <td>150</td>\n",
              "      <td>0</td>\n",
              "      <td>2.3</td>\n",
              "      <td>0</td>\n",
              "      <td>0</td>\n",
              "      <td>1</td>\n",
              "      <td>1</td>\n",
              "    </tr>\n",
              "    <tr>\n",
              "      <th>1</th>\n",
              "      <td>37</td>\n",
              "      <td>1</td>\n",
              "      <td>2</td>\n",
              "      <td>130</td>\n",
              "      <td>250</td>\n",
              "      <td>0</td>\n",
              "      <td>1</td>\n",
              "      <td>187</td>\n",
              "      <td>0</td>\n",
              "      <td>3.5</td>\n",
              "      <td>0</td>\n",
              "      <td>0</td>\n",
              "      <td>2</td>\n",
              "      <td>1</td>\n",
              "    </tr>\n",
              "    <tr>\n",
              "      <th>2</th>\n",
              "      <td>41</td>\n",
              "      <td>0</td>\n",
              "      <td>1</td>\n",
              "      <td>130</td>\n",
              "      <td>204</td>\n",
              "      <td>0</td>\n",
              "      <td>0</td>\n",
              "      <td>172</td>\n",
              "      <td>0</td>\n",
              "      <td>1.4</td>\n",
              "      <td>2</td>\n",
              "      <td>0</td>\n",
              "      <td>2</td>\n",
              "      <td>1</td>\n",
              "    </tr>\n",
              "    <tr>\n",
              "      <th>3</th>\n",
              "      <td>56</td>\n",
              "      <td>1</td>\n",
              "      <td>1</td>\n",
              "      <td>120</td>\n",
              "      <td>236</td>\n",
              "      <td>0</td>\n",
              "      <td>1</td>\n",
              "      <td>178</td>\n",
              "      <td>0</td>\n",
              "      <td>0.8</td>\n",
              "      <td>2</td>\n",
              "      <td>0</td>\n",
              "      <td>2</td>\n",
              "      <td>1</td>\n",
              "    </tr>\n",
              "    <tr>\n",
              "      <th>4</th>\n",
              "      <td>57</td>\n",
              "      <td>0</td>\n",
              "      <td>0</td>\n",
              "      <td>120</td>\n",
              "      <td>354</td>\n",
              "      <td>0</td>\n",
              "      <td>1</td>\n",
              "      <td>163</td>\n",
              "      <td>1</td>\n",
              "      <td>0.6</td>\n",
              "      <td>2</td>\n",
              "      <td>0</td>\n",
              "      <td>2</td>\n",
              "      <td>1</td>\n",
              "    </tr>\n",
              "  </tbody>\n",
              "</table>\n",
              "</div>"
            ],
            "text/plain": [
              "   age  sex  cp  trestbps  chol  fbs  ...  exang  oldpeak  slope  ca  thal  target\n",
              "0   63    1   3       145   233    1  ...      0      2.3      0   0     1       1\n",
              "1   37    1   2       130   250    0  ...      0      3.5      0   0     2       1\n",
              "2   41    0   1       130   204    0  ...      0      1.4      2   0     2       1\n",
              "3   56    1   1       120   236    0  ...      0      0.8      2   0     2       1\n",
              "4   57    0   0       120   354    0  ...      1      0.6      2   0     2       1\n",
              "\n",
              "[5 rows x 14 columns]"
            ]
          },
          "metadata": {
            "tags": []
          },
          "execution_count": 4
        }
      ]
    },
    {
      "cell_type": "markdown",
      "metadata": {
        "id": "livpNZemtxGu"
      },
      "source": [
        "The dataset includes a total of **14 attributes**:\n",
        "\n",
        "- **age**: The person's age in years\n",
        "\n",
        "- **sex**: The person's sex (1 = male, 0 = female)\n",
        "\n",
        "- **cp**: The chest pain experienced (Value 1: typical angina, Value 2: atypical angina, Value 3: non-anginal pain, Value 4: asymptomatic)\n",
        "\n",
        "- **trestbps**: The person's resting blood pressure (mm Hg on admission to the hospital)\n",
        "\n",
        "- **chol**: The person's cholesterol measurement in mg/dl\n",
        "\n",
        "- **fbs**: The person's fasting blood sugar (> 120 mg/dl, 1 = true; 0 = false)\n",
        "\n",
        "- **restecg**: Resting electrocardiographic measurement (0 = normal, 1 = having ST-T wave abnormality, 2 = showing probable or definite left ventricular hypertrophy by Estes' criteria)\n",
        "\n",
        "- **thalach**: The person's maximum heart rate achieved\n",
        "\n",
        "- **exang**: Exercise induced angina (1 = yes; 0 = no)\n",
        "\n",
        "- **oldpeak**: ST depression induced by exercise relative to rest ('ST' relates to positions on the ECG plot. See more here)\n",
        "\n",
        "- **slope**: the slope of the peak exercise ST segment (Value 1: upsloping, Value 2: flat, Value 3: downsloping)\n",
        "\n",
        "- **ca**: The number of major vessels (0-3)\n",
        "\n",
        "- **thal**: A blood disorder called thalassemia (3 = normal; 6 = fixed defect; 7 = reversable defect)\n",
        "\n",
        "- **target**: Heart disease (0 = no, 1 = yes)"
      ]
    },
    {
      "cell_type": "code",
      "metadata": {
        "colab": {
          "base_uri": "https://localhost:8080/"
        },
        "id": "rGW7ctuMvWMi",
        "outputId": "518aa6b1-38f1-4a02-d774-c3f19942405a"
      },
      "source": [
        "print(\"Total number of patient data:\" , len(df))"
      ],
      "execution_count": 5,
      "outputs": [
        {
          "output_type": "stream",
          "text": [
            "Total number of patient data: 303\n"
          ],
          "name": "stdout"
        }
      ]
    },
    {
      "cell_type": "markdown",
      "metadata": {
        "id": "wmPTzwIWvnf8"
      },
      "source": [
        "We have a total of 303 patient data included in this dataset, which is considered fairly small. "
      ]
    },
    {
      "cell_type": "markdown",
      "metadata": {
        "id": "DZ5aBEpnTw7h"
      },
      "source": [
        "For readability, we will change the column names so that they can be more easily understood. "
      ]
    },
    {
      "cell_type": "code",
      "metadata": {
        "id": "ocJz442mTwZ1"
      },
      "source": [
        "df.columns = ['age', \n",
        "              'sex', \n",
        "              'chest_pain_type', \n",
        "              'resting_blood_pressure', \n",
        "              'cholesterol', \n",
        "              'fasting_blood_sugar', \n",
        "              'rest_ecg', \n",
        "              'max_heart_rate_achieved',\n",
        "              'exercise_induced_angina', \n",
        "              'st_depression', \n",
        "              'st_slope', \n",
        "              'num_major_vessels', \n",
        "              'thalassemia', \n",
        "              'target']"
      ],
      "execution_count": 6,
      "outputs": []
    },
    {
      "cell_type": "markdown",
      "metadata": {
        "id": "EvWLAcX3vsvp"
      },
      "source": [
        "## 04. Explore the Dataset"
      ]
    },
    {
      "cell_type": "code",
      "metadata": {
        "colab": {
          "base_uri": "https://localhost:8080/",
          "height": 347
        },
        "id": "cC4MqbZ704ud",
        "outputId": "18fad148-0d9b-4aa9-b8c7-4b89c0a0a843"
      },
      "source": [
        "print(\"TOTAL NUMBER OF PATIENTS       :\", len(df))\n",
        "print(\"Patients with    heart disease :\", df.target.value_counts()[1])\n",
        "print(\"Patients without heart disease :\", df.target.value_counts()[0])\n",
        "print()\n",
        "\n",
        "sns.countplot(x='target', data=df, palette='BrBG')\n",
        "plt.xticks(ticks=[0, 1], labels=['Without HD', 'With HD'])\n",
        "\n",
        "plt.show()"
      ],
      "execution_count": 7,
      "outputs": [
        {
          "output_type": "stream",
          "text": [
            "TOTAL NUMBER OF PATIENTS       : 303\n",
            "Patients with    heart disease : 165\n",
            "Patients without heart disease : 138\n",
            "\n"
          ],
          "name": "stdout"
        },
        {
          "output_type": "display_data",
          "data": {
            "image/png": "[encoded data removed]",
            "text/plain": [
              "<Figure size 432x288 with 1 Axes>"
            ]
          },
          "metadata": {
            "tags": [],
            "needs_background": "light"
          }
        }
      ]
    },
    {
      "cell_type": "markdown",
      "metadata": {
        "id": "fVKsdn0jUtAx"
      },
      "source": [
        "We see that we have an approximately even balance between two target groups."
      ]
    },
    {
      "cell_type": "code",
      "metadata": {
        "colab": {
          "base_uri": "https://localhost:8080/"
        },
        "id": "ed9_RrS16gIR",
        "outputId": "8751bbda-3da5-4ca0-a759-8c66c11e1eae"
      },
      "source": [
        "# Male Patients\n",
        "male_table = df[df.sex == 1]\n",
        "male_count = len(male_table)\n",
        "male_patients = male_table.target.value_counts()\n",
        "print(\"Number of MALE patients :\", male_count)\n",
        "print(\"WITH    heart disease   :\", male_patients[1])\n",
        "print(\"WITHOUT heart disease   :\", male_patients[0])\n",
        "print()\n",
        "\n",
        "# Female Patients\n",
        "female_table = df[df.sex == 0]\n",
        "female_count = len(female_table)\n",
        "female_patients = female_table.target.value_counts()\n",
        "print(\"Number of FEMALE patients :\", female_count)\n",
        "print(\"WITH    heart disease     :\", female_patients[1])\n",
        "print(\"WITHOUT heart disease     :\", female_patients[0])\n",
        "print()"
      ],
      "execution_count": 8,
      "outputs": [
        {
          "output_type": "stream",
          "text": [
            "Number of MALE patients : 207\n",
            "WITH    heart disease   : 93\n",
            "WITHOUT heart disease   : 114\n",
            "\n",
            "Number of FEMALE patients : 96\n",
            "WITH    heart disease     : 72\n",
            "WITHOUT heart disease     : 24\n",
            "\n"
          ],
          "name": "stdout"
        }
      ]
    },
    {
      "cell_type": "markdown",
      "metadata": {
        "id": "iCfj7z4wdsHA"
      },
      "source": [
        "Notice that we have a significantly higher number of male patients, but female patients tend to have higher probability of a heart disease based on our current dataset. "
      ]
    },
    {
      "cell_type": "code",
      "metadata": {
        "colab": {
          "base_uri": "https://localhost:8080/"
        },
        "id": "XxX9pPr_Uny_",
        "outputId": "609c2f93-71d8-46c7-cf4b-d2d1f6aa7349"
      },
      "source": [
        "# Percentage\n",
        "print(\"Percentage of Male Patients   : {:.2f}%\"\n",
        "       .format(male_count / (male_count + female_count) * 100))\n",
        "print(\"Percentage of Female Patients : {:.2f}%\"\n",
        "       .format(female_count / (male_count + female_count) * 100))"
      ],
      "execution_count": 9,
      "outputs": [
        {
          "output_type": "stream",
          "text": [
            "Percentage of Male Patients   : 68.32%\n",
            "Percentage of Female Patients : 31.68%\n"
          ],
          "name": "stdout"
        }
      ]
    },
    {
      "cell_type": "markdown",
      "metadata": {
        "id": "iZy2SB4DU6Hw"
      },
      "source": [
        "Let's have a look at the mean values of each attribute grouped by target groups."
      ]
    },
    {
      "cell_type": "code",
      "metadata": {
        "colab": {
          "base_uri": "https://localhost:8080/",
          "height": 162
        },
        "id": "chajUplbLlZh",
        "outputId": "9691aae7-a350-40ea-de72-37466da050ef"
      },
      "source": [
        "df.groupby('target').mean()"
      ],
      "execution_count": 10,
      "outputs": [
        {
          "output_type": "execute_result",
          "data": {
            "text/html": [
              "<div>\n",
              "<style scoped>\n",
              "    .dataframe tbody tr th:only-of-type {\n",
              "        vertical-align: middle;\n",
              "    }\n",
              "\n",
              "    .dataframe tbody tr th {\n",
              "        vertical-align: top;\n",
              "    }\n",
              "\n",
              "    .dataframe thead th {\n",
              "        text-align: right;\n",
              "    }\n",
              "</style>\n",
              "<table border=\"1\" class=\"dataframe\">\n",
              "  <thead>\n",
              "    <tr style=\"text-align: right;\">\n",
              "      <th></th>\n",
              "      <th>age</th>\n",
              "      <th>sex</th>\n",
              "      <th>chest_pain_type</th>\n",
              "      <th>resting_blood_pressure</th>\n",
              "      <th>cholesterol</th>\n",
              "      <th>fasting_blood_sugar</th>\n",
              "      <th>rest_ecg</th>\n",
              "      <th>max_heart_rate_achieved</th>\n",
              "      <th>exercise_induced_angina</th>\n",
              "      <th>st_depression</th>\n",
              "      <th>st_slope</th>\n",
              "      <th>num_major_vessels</th>\n",
              "      <th>thalassemia</th>\n",
              "    </tr>\n",
              "    <tr>\n",
              "      <th>target</th>\n",
              "      <th></th>\n",
              "      <th></th>\n",
              "      <th></th>\n",
              "      <th></th>\n",
              "      <th></th>\n",
              "      <th></th>\n",
              "      <th></th>\n",
              "      <th></th>\n",
              "      <th></th>\n",
              "      <th></th>\n",
              "      <th></th>\n",
              "      <th></th>\n",
              "      <th></th>\n",
              "    </tr>\n",
              "  </thead>\n",
              "  <tbody>\n",
              "    <tr>\n",
              "      <th>0</th>\n",
              "      <td>56.601449</td>\n",
              "      <td>0.826087</td>\n",
              "      <td>0.478261</td>\n",
              "      <td>134.398551</td>\n",
              "      <td>251.086957</td>\n",
              "      <td>0.159420</td>\n",
              "      <td>0.449275</td>\n",
              "      <td>139.101449</td>\n",
              "      <td>0.550725</td>\n",
              "      <td>1.585507</td>\n",
              "      <td>1.166667</td>\n",
              "      <td>1.166667</td>\n",
              "      <td>2.543478</td>\n",
              "    </tr>\n",
              "    <tr>\n",
              "      <th>1</th>\n",
              "      <td>52.496970</td>\n",
              "      <td>0.563636</td>\n",
              "      <td>1.375758</td>\n",
              "      <td>129.303030</td>\n",
              "      <td>242.230303</td>\n",
              "      <td>0.139394</td>\n",
              "      <td>0.593939</td>\n",
              "      <td>158.466667</td>\n",
              "      <td>0.139394</td>\n",
              "      <td>0.583030</td>\n",
              "      <td>1.593939</td>\n",
              "      <td>0.363636</td>\n",
              "      <td>2.121212</td>\n",
              "    </tr>\n",
              "  </tbody>\n",
              "</table>\n",
              "</div>"
            ],
            "text/plain": [
              "              age       sex  ...  num_major_vessels  thalassemia\n",
              "target                       ...                                \n",
              "0       56.601449  0.826087  ...           1.166667     2.543478\n",
              "1       52.496970  0.563636  ...           0.363636     2.121212\n",
              "\n",
              "[2 rows x 13 columns]"
            ]
          },
          "metadata": {
            "tags": []
          },
          "execution_count": 10
        }
      ]
    },
    {
      "cell_type": "markdown",
      "metadata": {
        "id": "EdA4J_67mK-S"
      },
      "source": [
        "### Visualizations\n",
        "We now create some visualizations to better understand our data."
      ]
    },
    {
      "cell_type": "code",
      "metadata": {
        "colab": {
          "base_uri": "https://localhost:8080/",
          "height": 459
        },
        "id": "BlwVG1m-MTC0",
        "outputId": "65ec0986-915a-4b6a-c2c5-dc814363cadb"
      },
      "source": [
        "pd.crosstab(df.sex, df.target).plot(kind=\"bar\",\n",
        "                                   figsize=(10,7), \n",
        "                                   color=['#dbb972', '#76c6ba'],\n",
        "                                   alpha=0.65)\n",
        "\n",
        "plt.title('Heart Disease Frequency for Sex', fontweight='bold', fontsize='x-large')\n",
        "plt.xlabel('Sex')\n",
        "plt.xticks(ticks=[0, 1], labels=['Female', 'Male'], rotation=0)\n",
        "plt.ylabel('Frequency')\n",
        "plt.legend(['Without HD', 'With HD'])\n",
        "\n",
        "plt.show()"
      ],
      "execution_count": 11,
      "outputs": [
        {
          "output_type": "display_data",
          "data": {
            "image/png": "[encoded data removed]",
            "text/plain": [
              "<Figure size 720x504 with 1 Axes>"
            ]
          },
          "metadata": {
            "tags": [],
            "needs_background": "light"
          }
        }
      ]
    },
    {
      "cell_type": "markdown",
      "metadata": {
        "id": "E9AzVblLmgSH"
      },
      "source": [
        "Once again, we can clearly see that we have more male patients in total, but we also have a higher proportion of female patients with heart diseases.\n",
        "\n",
        "Now, let's look at the age distribution of patients."
      ]
    },
    {
      "cell_type": "code",
      "metadata": {
        "colab": {
          "base_uri": "https://localhost:8080/",
          "height": 515
        },
        "id": "tho6JkhNrWS3",
        "outputId": "25e40b72-b463-4d65-9aad-446f6c25f212"
      },
      "source": [
        "sns.set(rc={ 'figure.figsize':(16.0, 8.0) }, style='white',\n",
        "        font_scale=0.8)\n",
        "\n",
        "\n",
        "ax = sns.countplot(x='age', data=df, color='#76c6ba', alpha=0.65)\n",
        "ax.set(xlabel=\"Age\", ylabel=\"Frequency\")\n",
        "plt.title('Patient Age Distribution', fontweight='bold', fontsize='x-large')\n",
        "\n",
        "plt.show()"
      ],
      "execution_count": 12,
      "outputs": [
        {
          "output_type": "display_data",
          "data": {
            "image/png": "[encoded data removed]",
            "text/plain": [
              "<Figure size 1152x576 with 1 Axes>"
            ]
          },
          "metadata": {
            "tags": []
          }
        }
      ]
    },
    {
      "cell_type": "markdown",
      "metadata": {
        "id": "iUVsBRAa73YN"
      },
      "source": [
        "We can see that we have a high percentage of patients in their 50s and very low percentage of them in their 20s and 30s, which makes sense since older age groups generally have higher risks of having a heart disease."
      ]
    },
    {
      "cell_type": "code",
      "metadata": {
        "colab": {
          "base_uri": "https://localhost:8080/",
          "height": 463
        },
        "id": "OeizRFaMXL66",
        "outputId": "426c6185-e0f7-4750-8108-d20905f9ff18"
      },
      "source": [
        "pd.crosstab(df.age, df.target).plot(kind=\"bar\",\n",
        "                                    figsize=(20,7), \n",
        "                                    color=['#dbb972', '#76c6ba'],\n",
        "                                    alpha=0.65)\n",
        "\n",
        "plt.title('Heart Disease Frequency for Ages', \n",
        "          fontweight='bold', \n",
        "          fontsize='x-large')\n",
        "plt.xlabel('Age')\n",
        "plt.ylabel('Frequency')\n",
        "plt.legend(['Without HD', 'With HD'])\n",
        "\n",
        "plt.show()"
      ],
      "execution_count": 13,
      "outputs": [
        {
          "output_type": "display_data",
          "data": {
            "image/png": "[encoded data removed]",
            "text/plain": [
              "<Figure size 1440x504 with 1 Axes>"
            ]
          },
          "metadata": {
            "tags": []
          }
        }
      ]
    },
    {
      "cell_type": "markdown",
      "metadata": {
        "id": "xBgmxXzn8w4n"
      },
      "source": [
        "Interestingly, from this chart, we can notice that a fair amount of patients in their 40s were also diagnosed with a heart disease. "
      ]
    },
    {
      "cell_type": "code",
      "metadata": {
        "colab": {
          "base_uri": "https://localhost:8080/",
          "height": 473
        },
        "id": "GgRLv9vKhv7W",
        "outputId": "9a0273cf-c1a3-47ea-a762-98d92b644897"
      },
      "source": [
        "ax = sns.relplot(data=df, x=\"age\", y=\"max_heart_rate_achieved\", hue=\"target\", \n",
        "                 palette=\"BrBG\",\n",
        "                 height=6)\n",
        "\n",
        "ax.set(xlabel=\"Age\", ylabel=\"Maximum Heart Rate\")\n",
        "plt.title('Maximum Heart Rate and Age', fontweight='bold', fontsize='x-large')\n",
        "plt.show()"
      ],
      "execution_count": 14,
      "outputs": [
        {
          "output_type": "display_data",
          "data": {
            "image/png": "[encoded data removed]",
            "text/plain": [
              "<Figure size 469.305x432 with 1 Axes>"
            ]
          },
          "metadata": {
            "tags": []
          }
        }
      ]
    },
    {
      "cell_type": "markdown",
      "metadata": {
        "id": "Eijr_VRgAMJp"
      },
      "source": [
        "While the pattern is not completely clear from this dataset, the chart does show that patients with a heart disease tend to have slightly higher maximum heart rates."
      ]
    },
    {
      "cell_type": "code",
      "metadata": {
        "colab": {
          "base_uri": "https://localhost:8080/",
          "height": 407
        },
        "id": "sglR4CJonhPe",
        "outputId": "a174d848-52d4-457c-e139-2b5663e235d9"
      },
      "source": [
        "pd.crosstab(df.fasting_blood_sugar, df.target).plot(kind=\"bar\",\n",
        "                                                    figsize=(12,6),\n",
        "                                                    color=['#dbb972','#76c6ba'],\n",
        "                                                    alpha=0.65)\n",
        "\n",
        "plt.title('Heart Disease Frequency Based on Fasting Blood Sugar Levels', fontweight='bold', \n",
        "          fontsize='x-large')\n",
        "plt.xlabel('Fasting Blood Sugar Level')\n",
        "plt.xticks(ticks=[0, 1], \n",
        "           labels=['0 (Less than or equal to 120 mg/dl)', '1 (Greater than 120 mg/dl)'], \n",
        "           rotation=0)\n",
        "plt.ylabel('Frequency')\n",
        "plt.legend(['Without HD', 'With HD'])\n",
        "\n",
        "plt.show()"
      ],
      "execution_count": 17,
      "outputs": [
        {
          "output_type": "display_data",
          "data": {
            "image/png": "[encoded data removed]",
            "text/plain": [
              "<Figure size 864x432 with 1 Axes>"
            ]
          },
          "metadata": {
            "tags": []
          }
        }
      ]
    },
    {
      "cell_type": "markdown",
      "metadata": {
        "id": "KsWGkolQJ1mM"
      },
      "source": [
        "The chart above was also quite surprising because I assumed higher fasting blood sugar levels are naturally correlated with higher risk of having a heart disease. However, the chart does not seem to show such correlations, and instead suggests the opposite is true. Once again, this may be due to small dataset size."
      ]
    },
    {
      "cell_type": "code",
      "metadata": {
        "colab": {
          "base_uri": "https://localhost:8080/",
          "height": 407
        },
        "id": "-LweFd_UpJK6",
        "outputId": "84cc466d-c159-472d-874d-51c40ca319bd"
      },
      "source": [
        "pd.crosstab(df.chest_pain_type, df.target).plot(kind=\"bar\",\n",
        "                                                figsize=(15,6),\n",
        "                                                color=['#dbb972','#76c6ba'],\n",
        "                                                alpha=0.65)\n",
        "\n",
        "plt.title('Heart Disease Frequency According To Chest Pain Type', fontweight='bold', \n",
        "          fontsize='x-large')\n",
        "plt.xlabel('Chest Pain Type')\n",
        "plt.xticks(ticks=[0, 1, 2, 3], \n",
        "           labels=['0 (typical angina)', '1 (atypical angina)', \n",
        "                   '2 (non-anginal pain)', '3 (asymptomatic)'], \n",
        "           rotation=0)\n",
        "plt.ylabel('Frequency')\n",
        "plt.legend(['Without HD', 'With HD'])\n",
        "\n",
        "plt.show()"
      ],
      "execution_count": 16,
      "outputs": [
        {
          "output_type": "display_data",
          "data": {
            "image/png": "[encoded data removed]",
            "text/plain": [
              "<Figure size 1080x432 with 1 Axes>"
            ]
          },
          "metadata": {
            "tags": []
          }
        }
      ]
    },
    {
      "cell_type": "markdown",
      "metadata": {
        "id": "q-8Y1AI6Kblo"
      },
      "source": [
        "This chart seems to strongly shows that having a chest pain type of 1, 2, or 3 suggests high probability of a heart disease. "
      ]
    },
    {
      "cell_type": "markdown",
      "metadata": {
        "id": "BIQ5zoiEAYhK"
      },
      "source": [
        "## 05. Data Preprocessing"
      ]
    },
    {
      "cell_type": "code",
      "metadata": {
        "colab": {
          "base_uri": "https://localhost:8080/"
        },
        "id": "a9UBq3dch8_Q",
        "outputId": "898edb4d-a139-4a1b-a5ce-08ba479cc12b"
      },
      "source": [
        "print(df.dtypes)\n",
        "\n",
        "# Change the following datatype into categorial variables / objects\n",
        "df['sex'] = df['sex'].astype('object')\n",
        "df['chest_pain_type'] = df['chest_pain_type'].astype('object')\n",
        "df['fasting_blood_sugar'] = df['fasting_blood_sugar'].astype('object')\n",
        "df['rest_ecg'] = df['rest_ecg'].astype('object')\n",
        "df['exercise_induced_angina'] = df['exercise_induced_angina'].astype('object')\n",
        "df['st_slope'] = df['st_slope'].astype('object')\n",
        "df['thalassemia'] = df['thalassemia'].astype('object')\n",
        "\n",
        "print(\"*\"*50)\n",
        "print(df.dtypes)"
      ],
      "execution_count": 18,
      "outputs": [
        {
          "output_type": "stream",
          "text": [
            "age                          int64\n",
            "sex                          int64\n",
            "chest_pain_type              int64\n",
            "resting_blood_pressure       int64\n",
            "cholesterol                  int64\n",
            "fasting_blood_sugar          int64\n",
            "rest_ecg                     int64\n",
            "max_heart_rate_achieved      int64\n",
            "exercise_induced_angina      int64\n",
            "st_depression              float64\n",
            "st_slope                     int64\n",
            "num_major_vessels            int64\n",
            "thalassemia                  int64\n",
            "target                       int64\n",
            "dtype: object\n",
            "**************************************************\n",
            "age                          int64\n",
            "sex                         object\n",
            "chest_pain_type             object\n",
            "resting_blood_pressure       int64\n",
            "cholesterol                  int64\n",
            "fasting_blood_sugar         object\n",
            "rest_ecg                    object\n",
            "max_heart_rate_achieved      int64\n",
            "exercise_induced_angina     object\n",
            "st_depression              float64\n",
            "st_slope                    object\n",
            "num_major_vessels            int64\n",
            "thalassemia                 object\n",
            "target                       int64\n",
            "dtype: object\n"
          ],
          "name": "stdout"
        }
      ]
    },
    {
      "cell_type": "markdown",
      "metadata": {
        "id": "C8BxYFUPlZpq"
      },
      "source": [
        "With these columns, we now create some dummy variables to better understand some model analysis later on."
      ]
    },
    {
      "cell_type": "code",
      "metadata": {
        "colab": {
          "base_uri": "https://localhost:8080/"
        },
        "id": "XnMbYziggtjq",
        "outputId": "be73283a-3fa6-42ff-dd67-777d7f52339b"
      },
      "source": [
        "df = pd.get_dummies(df)\n",
        "print(df.columns)"
      ],
      "execution_count": 19,
      "outputs": [
        {
          "output_type": "stream",
          "text": [
            "Index(['age', 'resting_blood_pressure', 'cholesterol',\n",
            "       'max_heart_rate_achieved', 'st_depression', 'num_major_vessels',\n",
            "       'target', 'sex_0', 'sex_1', 'chest_pain_type_0', 'chest_pain_type_1',\n",
            "       'chest_pain_type_2', 'chest_pain_type_3', 'fasting_blood_sugar_0',\n",
            "       'fasting_blood_sugar_1', 'rest_ecg_0', 'rest_ecg_1', 'rest_ecg_2',\n",
            "       'exercise_induced_angina_0', 'exercise_induced_angina_1', 'st_slope_0',\n",
            "       'st_slope_1', 'st_slope_2', 'thalassemia_0', 'thalassemia_1',\n",
            "       'thalassemia_2', 'thalassemia_3'],\n",
            "      dtype='object')\n"
          ],
          "name": "stdout"
        }
      ]
    },
    {
      "cell_type": "markdown",
      "metadata": {
        "id": "DYglfn7Nlpy9"
      },
      "source": [
        "Here we can see the dummy variables. For example, the variable, \"sex\", which had 0/1 representing female/male, has turned into two variables sex_0 and sex_1 (sex_0: 1 and sex_1: 0 means the patient is female and vice versa)."
      ]
    },
    {
      "cell_type": "code",
      "metadata": {
        "id": "AJkswyRhClqp"
      },
      "source": [
        "# Get Y values\n",
        "y = df[\"target\"]\n",
        "\n",
        "# Normalize and get X values\n",
        "x_data = df.drop(['target'], axis=1)\n",
        "x = (x_data - np.min(x_data)) / (np.max(x_data) - np.min(x_data)).values"
      ],
      "execution_count": 20,
      "outputs": []
    },
    {
      "cell_type": "markdown",
      "metadata": {
        "id": "9oG_OfA1L_kn"
      },
      "source": [
        "With the X and Y values set to pass in, we split them into training and testing sets, as shown below:"
      ]
    },
    {
      "cell_type": "code",
      "metadata": {
        "colab": {
          "base_uri": "https://localhost:8080/"
        },
        "id": "iUcwdIDhHklB",
        "outputId": "fae37a26-7073-4281-9fce-0206d15919a2"
      },
      "source": [
        "x_train, x_test, y_train, y_test = train_test_split(x, y, test_size = 0.2, random_state=0)\n",
        "\n",
        "# X values\n",
        "print(x_train.head(), \"\\n\")\n",
        "print(x_test.head(), \"\\n\")\n",
        "print(\"*\"*50)\n",
        "\n",
        "# Y values\n",
        "print(y_train, \"\\n\")\n",
        "print(y_test, \"\\n\")"
      ],
      "execution_count": 21,
      "outputs": [
        {
          "output_type": "stream",
          "text": [
            "          age  resting_blood_pressure  ...  thalassemia_2  thalassemia_3\n",
            "74   0.291667                0.264151  ...            1.0            0.0\n",
            "153  0.770833                0.490566  ...            1.0            0.0\n",
            "64   0.604167                0.433962  ...            1.0            0.0\n",
            "296  0.708333                0.283019  ...            1.0            0.0\n",
            "287  0.583333                0.566038  ...            1.0            0.0\n",
            "\n",
            "[5 rows x 26 columns] \n",
            "\n",
            "          age  resting_blood_pressure  ...  thalassemia_2  thalassemia_3\n",
            "225  0.854167                0.481132  ...            0.0            1.0\n",
            "152  0.729167                0.716981  ...            0.0            1.0\n",
            "228  0.625000                0.716981  ...            0.0            1.0\n",
            "201  0.645833                0.292453  ...            0.0            1.0\n",
            "52   0.687500                0.339623  ...            0.0            1.0\n",
            "\n",
            "[5 rows x 26 columns] \n",
            "\n",
            "**************************************************\n",
            "74     1\n",
            "153    1\n",
            "64     1\n",
            "296    0\n",
            "287    0\n",
            "      ..\n",
            "251    0\n",
            "192    0\n",
            "117    1\n",
            "47     1\n",
            "172    0\n",
            "Name: target, Length: 242, dtype: int64 \n",
            "\n",
            "225    0\n",
            "152    1\n",
            "228    0\n",
            "201    0\n",
            "52     1\n",
            "      ..\n",
            "146    1\n",
            "302    0\n",
            "26     1\n",
            "108    1\n",
            "89     1\n",
            "Name: target, Length: 61, dtype: int64 \n",
            "\n"
          ],
          "name": "stdout"
        }
      ]
    },
    {
      "cell_type": "markdown",
      "metadata": {
        "id": "C2BH-epkrNhp"
      },
      "source": [
        "## 06. Model Creation and Prediction"
      ]
    },
    {
      "cell_type": "code",
      "metadata": {
        "id": "xSU0D7HmrQZG"
      },
      "source": [
        "# importing alll the necessary packages to use the various classification algorithms\n",
        "from sklearn.linear_model import LogisticRegression  # for Logistic Regression algorithm\n",
        "from sklearn.ensemble import RandomForestClassifier  # for Random Forest Classifier\n",
        "from sklearn.tree import DecisionTreeClassifier      # for using Decision Tree Algoithm\n",
        "from sklearn import svm                              # for Support Vector Machine (SVM) Algorithm\n",
        "from sklearn import metrics                          # for checking the model accuracy"
      ],
      "execution_count": 22,
      "outputs": []
    },
    {
      "cell_type": "markdown",
      "metadata": {
        "id": "18_rPA1QJtuQ"
      },
      "source": [
        "### Support Vector Machine Model"
      ]
    },
    {
      "cell_type": "code",
      "metadata": {
        "colab": {
          "base_uri": "https://localhost:8080/"
        },
        "id": "We0_VENIqwFb",
        "outputId": "8cd7b87d-85e9-4af9-bcd0-eb32ef0d9543"
      },
      "source": [
        "# Use Support Vector Machine\n",
        "model = svm.SVC()\n",
        "\n",
        "# Train the algorithm with training input and output data\n",
        "model.fit(x_train, y_train) \n",
        "\n",
        "# Pass the testing data to the trained model for prediction\n",
        "prediction = model.predict(x_test) \n",
        "\n",
        "print('The accuracy of the SVM Model is:', metrics.accuracy_score(prediction, y_test))"
      ],
      "execution_count": 23,
      "outputs": [
        {
          "output_type": "stream",
          "text": [
            "The accuracy of the SVM Model is: 0.8360655737704918\n"
          ],
          "name": "stdout"
        }
      ]
    },
    {
      "cell_type": "markdown",
      "metadata": {
        "id": "xtoc1tBrJu2r"
      },
      "source": [
        "### Logistic Regression Model\n"
      ]
    },
    {
      "cell_type": "code",
      "metadata": {
        "colab": {
          "base_uri": "https://localhost:8080/"
        },
        "id": "y5Oxi9n0tQ4y",
        "outputId": "065e696b-ae4d-47e2-877f-a838306962ab"
      },
      "source": [
        "model2 = LogisticRegression()\n",
        "\n",
        "# Train the algorithm with training input and output data\n",
        "model2.fit(x_train, y_train) \n",
        "\n",
        "# Pass the testing data to the trained model for prediction\n",
        "prediction = model2.predict(x_test) \n",
        "\n",
        "print('The accuracy of the Logistic Regression Model is', metrics.accuracy_score(prediction, y_test))"
      ],
      "execution_count": 24,
      "outputs": [
        {
          "output_type": "stream",
          "text": [
            "The accuracy of the Logistic Regression Model is 0.8688524590163934\n"
          ],
          "name": "stdout"
        }
      ]
    },
    {
      "cell_type": "markdown",
      "metadata": {
        "id": "2IE4m4p2J8SX"
      },
      "source": [
        "### Random Forest Classifier Model"
      ]
    },
    {
      "cell_type": "code",
      "metadata": {
        "colab": {
          "base_uri": "https://localhost:8080/"
        },
        "id": "WBMdtCbzrxrN",
        "outputId": "f001cb47-e441-4317-fbf5-76018f7b3f3e"
      },
      "source": [
        "model3 = RandomForestClassifier(n_estimators = 1000, random_state = 1)\n",
        "\n",
        "# Train the algorithm with training input and output data\n",
        "model3.fit(x_train, y_train)\n",
        "\n",
        "# Pass the testing data to the trained model for prediction\n",
        "prediction = model3.predict(x_test) \n",
        "\n",
        "print('The accuracy of the Random Forest Classifier Model is', metrics.accuracy_score(prediction, y_test))"
      ],
      "execution_count": 25,
      "outputs": [
        {
          "output_type": "stream",
          "text": [
            "The accuracy of the Random Forest Classifier Model is 0.8852459016393442\n"
          ],
          "name": "stdout"
        }
      ]
    },
    {
      "cell_type": "markdown",
      "metadata": {
        "id": "NcZPbUa1J5NP"
      },
      "source": [
        "### Evaluation: Area Under the Curve "
      ]
    },
    {
      "cell_type": "code",
      "metadata": {
        "colab": {
          "base_uri": "https://localhost:8080/",
          "height": 518
        },
        "id": "rw0Yo5WxtUXE",
        "outputId": "3fed6794-3514-44ac-bf14-273c826b9901"
      },
      "source": [
        "from sklearn.metrics import roc_curve, auc\n",
        "\n",
        "y_pred_quant = model3.predict_proba(x_test)[:, 1]\n",
        "fpr, tpr, thresholds = roc_curve(y_test, y_pred_quant)\n",
        "\n",
        "fig, ax = plt.subplots()\n",
        "ax.plot(fpr, tpr)\n",
        "ax.plot([0, 1], [0, 1], transform=ax.transAxes, ls=\"--\", c=\".3\")\n",
        "plt.xlim([0.0, 1.0])\n",
        "plt.ylim([0.0, 1.0])\n",
        "plt.rcParams['font.size'] = 12\n",
        "plt.title('ROC curve for diabetes classifier', \n",
        "          fontweight='bold', \n",
        "          fontsize='x-large')\n",
        "plt.xlabel('False Positive Rate (1 - Specificity)')\n",
        "plt.ylabel('True Positive Rate (Sensitivity)')\n",
        "plt.grid(True)"
      ],
      "execution_count": 27,
      "outputs": [
        {
          "output_type": "display_data",
          "data": {
            "image/png": "[encoded data removed]",
            "text/plain": [
              "<Figure size 1152x576 with 1 Axes>"
            ]
          },
          "metadata": {
            "tags": []
          }
        }
      ]
    },
    {
      "cell_type": "code",
      "metadata": {
        "colab": {
          "base_uri": "https://localhost:8080/"
        },
        "id": "9oz4QwrWtuWP",
        "outputId": "03c99882-8f29-4e5c-b804-f675cd6f594c"
      },
      "source": [
        "# Area under the curve\n",
        "auc(fpr, tpr)"
      ],
      "execution_count": 28,
      "outputs": [
        {
          "output_type": "execute_result",
          "data": {
            "text/plain": [
              "0.9357298474945533"
            ]
          },
          "metadata": {
            "tags": []
          },
          "execution_count": 28
        }
      ]
    },
    {
      "cell_type": "markdown",
      "metadata": {
        "id": "ghxY66c4KLB7"
      },
      "source": [
        "### Evaluation: Sensitivity and Specificity"
      ]
    },
    {
      "cell_type": "code",
      "metadata": {
        "colab": {
          "base_uri": "https://localhost:8080/"
        },
        "id": "lys5A7ajv35Z",
        "outputId": "b5b30b9e-5496-42d0-b8bd-f3155eca6e93"
      },
      "source": [
        "from sklearn.metrics import confusion_matrix\n",
        "\n",
        "confusion_matrix = confusion_matrix(y_test, prediction)\n",
        "\n",
        "sensitivity = confusion_matrix[0,0]/(confusion_matrix[0,0]+confusion_matrix[1,0])\n",
        "print('Sensitivity : ', sensitivity )\n",
        "\n",
        "specificity = confusion_matrix[1,1]/(confusion_matrix[1,1]+confusion_matrix[0,1])\n",
        "print('Specificity : ', specificity)"
      ],
      "execution_count": 29,
      "outputs": [
        {
          "output_type": "stream",
          "text": [
            "Sensitivity :  0.8846153846153846\n",
            "Specificity :  0.8857142857142857\n"
          ],
          "name": "stdout"
        }
      ]
    },
    {
      "cell_type": "markdown",
      "metadata": {
        "id": "wD-RhT6UKSVP"
      },
      "source": [
        "## Model Analysis"
      ]
    },
    {
      "cell_type": "markdown",
      "metadata": {
        "id": "nACplQw6KZu9"
      },
      "source": [
        "### Permutation Importance"
      ]
    },
    {
      "cell_type": "code",
      "metadata": {
        "id": "Dq3VcTH952EP"
      },
      "source": [
        "!pip install eli5\n",
        "!pip install shap\n",
        "!pip install pdpbox"
      ],
      "execution_count": null,
      "outputs": []
    },
    {
      "cell_type": "code",
      "metadata": {
        "colab": {
          "base_uri": "https://localhost:8080/",
          "height": 479
        },
        "id": "jkkbEklv5gV2",
        "outputId": "e292468a-5dc3-4693-ed55-8e7d681a2a45"
      },
      "source": [
        "import eli5 \n",
        "from eli5.sklearn import PermutationImportance\n",
        "import shap\n",
        "from pdpbox import pdp, info_plots\n",
        "\n",
        "perm = PermutationImportance(model3, random_state=1).fit(x_test, y_test)\n",
        "eli5.show_weights(perm, feature_names=x_test.columns.tolist())"
      ],
      "execution_count": 31,
      "outputs": [
        {
          "output_type": "stream",
          "text": [
            "/usr/local/lib/python3.6/dist-packages/sklearn/utils/deprecation.py:144: FutureWarning: The sklearn.metrics.scorer module is  deprecated in version 0.22 and will be removed in version 0.24. The corresponding classes / functions should instead be imported from sklearn.metrics. Anything that cannot be imported from sklearn.metrics is now part of the private API.\n",
            "  warnings.warn(message, FutureWarning)\n",
            "/usr/local/lib/python3.6/dist-packages/sklearn/utils/deprecation.py:144: FutureWarning: The sklearn.feature_selection.base module is  deprecated in version 0.22 and will be removed in version 0.24. The corresponding classes / functions should instead be imported from sklearn.feature_selection. Anything that cannot be imported from sklearn.feature_selection is now part of the private API.\n",
            "  warnings.warn(message, FutureWarning)\n"
          ],
          "name": "stderr"
        },
        {
          "output_type": "execute_result",
          "data": {
            "text/html": [
              "\n",
              "    <style>\n",
              "    table.eli5-weights tr:hover {\n",
              "        filter: brightness(85%);\n",
              "    }\n",
              "</style>\n",
              "\n",
              "\n",
              "\n",
              "    \n",
              "\n",
              "    \n",
              "\n",
              "    \n",
              "\n",
              "    \n",
              "\n",
              "    \n",
              "\n",
              "    \n",
              "\n",
              "\n",
              "    \n",
              "\n",
              "    \n",
              "\n",
              "    \n",
              "\n",
              "    \n",
              "\n",
              "    \n",
              "\n",
              "    \n",
              "\n",
              "\n",
              "    \n",
              "\n",
              "    \n",
              "\n",
              "    \n",
              "\n",
              "    \n",
              "\n",
              "    \n",
              "        <table class=\"eli5-weights eli5-feature-importances\" style=\"border-collapse: collapse; border: none; margin-top: 0em; table-layout: auto;\">\n",
              "    <thead>\n",
              "    <tr style=\"border: none;\">\n",
              "        <th style=\"padding: 0 1em 0 0.5em; text-align: right; border: none;\">Weight</th>\n",
              "        <th style=\"padding: 0 0.5em 0 0.5em; text-align: left; border: none;\">Feature</th>\n",
              "    </tr>\n",
              "    </thead>\n",
              "    <tbody>\n",
              "    \n",
              "        <tr style=\"background-color: hsl(120, 100.00%, 80.00%); border: none;\">\n",
              "            <td style=\"padding: 0 1em 0 0.5em; text-align: right; border: none;\">\n",
              "                0.0820\n",
              "                \n",
              "                    &plusmn; 0.0549\n",
              "                \n",
              "            </td>\n",
              "            <td style=\"padding: 0 0.5em 0 0.5em; text-align: left; border: none;\">\n",
              "                num_major_vessels\n",
              "            </td>\n",
              "        </tr>\n",
              "    \n",
              "        <tr style=\"background-color: hsl(120, 100.00%, 86.67%); border: none;\">\n",
              "            <td style=\"padding: 0 1em 0 0.5em; text-align: right; border: none;\">\n",
              "                0.0459\n",
              "                \n",
              "                    &plusmn; 0.0382\n",
              "                \n",
              "            </td>\n",
              "            <td style=\"padding: 0 0.5em 0 0.5em; text-align: left; border: none;\">\n",
              "                chest_pain_type_0\n",
              "            </td>\n",
              "        </tr>\n",
              "    \n",
              "        <tr style=\"background-color: hsl(120, 100.00%, 88.74%); border: none;\">\n",
              "            <td style=\"padding: 0 1em 0 0.5em; text-align: right; border: none;\">\n",
              "                0.0361\n",
              "                \n",
              "                    &plusmn; 0.0321\n",
              "                \n",
              "            </td>\n",
              "            <td style=\"padding: 0 0.5em 0 0.5em; text-align: left; border: none;\">\n",
              "                thalassemia_2\n",
              "            </td>\n",
              "        </tr>\n",
              "    \n",
              "        <tr style=\"background-color: hsl(120, 100.00%, 88.74%); border: none;\">\n",
              "            <td style=\"padding: 0 1em 0 0.5em; text-align: right; border: none;\">\n",
              "                0.0361\n",
              "                \n",
              "                    &plusmn; 0.0382\n",
              "                \n",
              "            </td>\n",
              "            <td style=\"padding: 0 0.5em 0 0.5em; text-align: left; border: none;\">\n",
              "                thalassemia_3\n",
              "            </td>\n",
              "        </tr>\n",
              "    \n",
              "        <tr style=\"background-color: hsl(120, 100.00%, 89.47%); border: none;\">\n",
              "            <td style=\"padding: 0 1em 0 0.5em; text-align: right; border: none;\">\n",
              "                0.0328\n",
              "                \n",
              "                    &plusmn; 0.0359\n",
              "                \n",
              "            </td>\n",
              "            <td style=\"padding: 0 0.5em 0 0.5em; text-align: left; border: none;\">\n",
              "                rest_ecg_1\n",
              "            </td>\n",
              "        </tr>\n",
              "    \n",
              "        <tr style=\"background-color: hsl(120, 100.00%, 91.80%); border: none;\">\n",
              "            <td style=\"padding: 0 1em 0 0.5em; text-align: right; border: none;\">\n",
              "                0.0230\n",
              "                \n",
              "                    &plusmn; 0.0161\n",
              "                \n",
              "            </td>\n",
              "            <td style=\"padding: 0 0.5em 0 0.5em; text-align: left; border: none;\">\n",
              "                chest_pain_type_2\n",
              "            </td>\n",
              "        </tr>\n",
              "    \n",
              "        <tr style=\"background-color: hsl(120, 100.00%, 91.80%); border: none;\">\n",
              "            <td style=\"padding: 0 1em 0 0.5em; text-align: right; border: none;\">\n",
              "                0.0230\n",
              "                \n",
              "                    &plusmn; 0.0262\n",
              "                \n",
              "            </td>\n",
              "            <td style=\"padding: 0 0.5em 0 0.5em; text-align: left; border: none;\">\n",
              "                st_slope_2\n",
              "            </td>\n",
              "        </tr>\n",
              "    \n",
              "        <tr style=\"background-color: hsl(120, 100.00%, 92.63%); border: none;\">\n",
              "            <td style=\"padding: 0 1em 0 0.5em; text-align: right; border: none;\">\n",
              "                0.0197\n",
              "                \n",
              "                    &plusmn; 0.0382\n",
              "                \n",
              "            </td>\n",
              "            <td style=\"padding: 0 0.5em 0 0.5em; text-align: left; border: none;\">\n",
              "                st_depression\n",
              "            </td>\n",
              "        </tr>\n",
              "    \n",
              "        <tr style=\"background-color: hsl(120, 100.00%, 92.63%); border: none;\">\n",
              "            <td style=\"padding: 0 1em 0 0.5em; text-align: right; border: none;\">\n",
              "                0.0197\n",
              "                \n",
              "                    &plusmn; 0.0321\n",
              "                \n",
              "            </td>\n",
              "            <td style=\"padding: 0 0.5em 0 0.5em; text-align: left; border: none;\">\n",
              "                max_heart_rate_achieved\n",
              "            </td>\n",
              "        </tr>\n",
              "    \n",
              "        <tr style=\"background-color: hsl(120, 100.00%, 93.52%); border: none;\">\n",
              "            <td style=\"padding: 0 1em 0 0.5em; text-align: right; border: none;\">\n",
              "                0.0164\n",
              "                \n",
              "                    &plusmn; 0.0293\n",
              "                \n",
              "            </td>\n",
              "            <td style=\"padding: 0 0.5em 0 0.5em; text-align: left; border: none;\">\n",
              "                rest_ecg_0\n",
              "            </td>\n",
              "        </tr>\n",
              "    \n",
              "        <tr style=\"background-color: hsl(120, 100.00%, 93.52%); border: none;\">\n",
              "            <td style=\"padding: 0 1em 0 0.5em; text-align: right; border: none;\">\n",
              "                0.0164\n",
              "                \n",
              "                    &plusmn; 0.0000\n",
              "                \n",
              "            </td>\n",
              "            <td style=\"padding: 0 0.5em 0 0.5em; text-align: left; border: none;\">\n",
              "                chest_pain_type_3\n",
              "            </td>\n",
              "        </tr>\n",
              "    \n",
              "        <tr style=\"background-color: hsl(120, 100.00%, 94.45%); border: none;\">\n",
              "            <td style=\"padding: 0 1em 0 0.5em; text-align: right; border: none;\">\n",
              "                0.0131\n",
              "                \n",
              "                    &plusmn; 0.0131\n",
              "                \n",
              "            </td>\n",
              "            <td style=\"padding: 0 0.5em 0 0.5em; text-align: left; border: none;\">\n",
              "                exercise_induced_angina_1\n",
              "            </td>\n",
              "        </tr>\n",
              "    \n",
              "        <tr style=\"background-color: hsl(120, 100.00%, 94.45%); border: none;\">\n",
              "            <td style=\"padding: 0 1em 0 0.5em; text-align: right; border: none;\">\n",
              "                0.0131\n",
              "                \n",
              "                    &plusmn; 0.0321\n",
              "                \n",
              "            </td>\n",
              "            <td style=\"padding: 0 0.5em 0 0.5em; text-align: left; border: none;\">\n",
              "                age\n",
              "            </td>\n",
              "        </tr>\n",
              "    \n",
              "        <tr style=\"background-color: hsl(120, 100.00%, 94.45%); border: none;\">\n",
              "            <td style=\"padding: 0 1em 0 0.5em; text-align: right; border: none;\">\n",
              "                0.0131\n",
              "                \n",
              "                    &plusmn; 0.0131\n",
              "                \n",
              "            </td>\n",
              "            <td style=\"padding: 0 0.5em 0 0.5em; text-align: left; border: none;\">\n",
              "                sex_1\n",
              "            </td>\n",
              "        </tr>\n",
              "    \n",
              "        <tr style=\"background-color: hsl(120, 100.00%, 96.59%); border: none;\">\n",
              "            <td style=\"padding: 0 1em 0 0.5em; text-align: right; border: none;\">\n",
              "                0.0066\n",
              "                \n",
              "                    &plusmn; 0.0161\n",
              "                \n",
              "            </td>\n",
              "            <td style=\"padding: 0 0.5em 0 0.5em; text-align: left; border: none;\">\n",
              "                sex_0\n",
              "            </td>\n",
              "        </tr>\n",
              "    \n",
              "        <tr style=\"background-color: hsl(120, 100.00%, 96.59%); border: none;\">\n",
              "            <td style=\"padding: 0 1em 0 0.5em; text-align: right; border: none;\">\n",
              "                0.0066\n",
              "                \n",
              "                    &plusmn; 0.0161\n",
              "                \n",
              "            </td>\n",
              "            <td style=\"padding: 0 0.5em 0 0.5em; text-align: left; border: none;\">\n",
              "                exercise_induced_angina_0\n",
              "            </td>\n",
              "        </tr>\n",
              "    \n",
              "        <tr style=\"background-color: hsl(120, 100.00%, 97.90%); border: none;\">\n",
              "            <td style=\"padding: 0 1em 0 0.5em; text-align: right; border: none;\">\n",
              "                0.0033\n",
              "                \n",
              "                    &plusmn; 0.0245\n",
              "                \n",
              "            </td>\n",
              "            <td style=\"padding: 0 0.5em 0 0.5em; text-align: left; border: none;\">\n",
              "                st_slope_1\n",
              "            </td>\n",
              "        </tr>\n",
              "    \n",
              "        <tr style=\"background-color: hsl(120, 100.00%, 97.90%); border: none;\">\n",
              "            <td style=\"padding: 0 1em 0 0.5em; text-align: right; border: none;\">\n",
              "                0.0033\n",
              "                \n",
              "                    &plusmn; 0.0131\n",
              "                \n",
              "            </td>\n",
              "            <td style=\"padding: 0 0.5em 0 0.5em; text-align: left; border: none;\">\n",
              "                cholesterol\n",
              "            </td>\n",
              "        </tr>\n",
              "    \n",
              "        <tr style=\"background-color: hsl(0, 100.00%, 100.00%); border: none;\">\n",
              "            <td style=\"padding: 0 1em 0 0.5em; text-align: right; border: none;\">\n",
              "                0\n",
              "                \n",
              "                    &plusmn; 0.0000\n",
              "                \n",
              "            </td>\n",
              "            <td style=\"padding: 0 0.5em 0 0.5em; text-align: left; border: none;\">\n",
              "                thalassemia_0\n",
              "            </td>\n",
              "        </tr>\n",
              "    \n",
              "        <tr style=\"background-color: hsl(0, 100.00%, 100.00%); border: none;\">\n",
              "            <td style=\"padding: 0 1em 0 0.5em; text-align: right; border: none;\">\n",
              "                0\n",
              "                \n",
              "                    &plusmn; 0.0000\n",
              "                \n",
              "            </td>\n",
              "            <td style=\"padding: 0 0.5em 0 0.5em; text-align: left; border: none;\">\n",
              "                thalassemia_1\n",
              "            </td>\n",
              "        </tr>\n",
              "    \n",
              "    \n",
              "        \n",
              "            <tr style=\"background-color: hsl(0, 100.00%, 100.00%); border: none;\">\n",
              "                <td colspan=\"2\" style=\"padding: 0 0.5em 0 0.5em; text-align: center; border: none; white-space: nowrap;\">\n",
              "                    <i>&hellip; 6 more &hellip;</i>\n",
              "                </td>\n",
              "            </tr>\n",
              "        \n",
              "    \n",
              "    </tbody>\n",
              "</table>\n",
              "    \n",
              "\n",
              "    \n",
              "\n",
              "\n",
              "    \n",
              "\n",
              "    \n",
              "\n",
              "    \n",
              "\n",
              "    \n",
              "\n",
              "    \n",
              "\n",
              "    \n",
              "\n",
              "\n",
              "\n"
            ],
            "text/plain": [
              "<IPython.core.display.HTML object>"
            ]
          },
          "metadata": {
            "tags": []
          },
          "execution_count": 31
        }
      ]
    }
  ]
}