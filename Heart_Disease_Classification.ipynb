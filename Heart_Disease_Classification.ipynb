{
  "nbformat": 4,
  "nbformat_minor": 0,
  "metadata": {
    "colab": {
      "name": "Heart_Disease_Classification.ipynb",
      "provenance": [],
      "collapsed_sections": [],
      "toc_visible": true,
      "authorship_tag": "ABX9TyPpe2ghaAkodWi66pI6vVUT",
      "include_colab_link": true
    },
    "kernelspec": {
      "name": "python3",
      "display_name": "Python 3"
    }
  },
  "cells": [
    {
      "cell_type": "markdown",
      "metadata": {
        "id": "view-in-github",
        "colab_type": "text"
      },
      "source": [
        "<a href=\"https://colab.research.google.com/github/byunsy/heart-disease-diagnosis/blob/main/Heart_Disease_Classification.ipynb\" target=\"_parent\"><img src=\"https://colab.research.google.com/assets/colab-badge.svg\" alt=\"Open In Colab\"/></a>"
      ]
    },
    {
      "cell_type": "markdown",
      "metadata": {
        "id": "F3pFppDFtTit"
      },
      "source": [
        "# Heart Disease Classification\n",
        "\n",
        "\n",
        "---\n",
        "\n"
      ]
    },
    {
      "cell_type": "markdown",
      "metadata": {
        "id": "TzcTwNTCtJ4w"
      },
      "source": [
        "## 01. Import Packages"
      ]
    },
    {
      "cell_type": "code",
      "metadata": {
        "id": "48t-8dpySODN"
      },
      "source": [
        "import os\n",
        "import numpy as np\n",
        "import pandas as pd\n",
        "import matplotlib.pyplot as plt\n",
        "import seaborn as sns\n",
        "\n",
        "from sklearn.linear_model import LogisticRegression\n",
        "from sklearn.model_selection import train_test_split"
      ],
      "execution_count": null,
      "outputs": []
    },
    {
      "cell_type": "markdown",
      "metadata": {
        "id": "K-xKKsEltMtO"
      },
      "source": [
        "## 02. Upload Dataset"
      ]
    },
    {
      "cell_type": "markdown",
      "metadata": {
        "id": "GPXywJGATNpF"
      },
      "source": [
        "Unzip the uploaded dataset."
      ]
    },
    {
      "cell_type": "code",
      "metadata": {
        "id": "8stXb7zfsaLo"
      },
      "source": [
        "!unzip /content/heart_disease.zip"
      ],
      "execution_count": null,
      "outputs": []
    },
    {
      "cell_type": "markdown",
      "metadata": {
        "id": "K3DU4ptitbLi"
      },
      "source": [
        "## 03. Understanding the Data"
      ]
    },
    {
      "cell_type": "markdown",
      "metadata": {
        "id": "sdooiD8LTRJu"
      },
      "source": [
        "Read the csv file as a dataframe."
      ]
    },
    {
      "cell_type": "code",
      "metadata": {
        "id": "IoyPP0tKtd8E"
      },
      "source": [
        "df = pd.read_csv(\"/content/heart.csv\")"
      ],
      "execution_count": null,
      "outputs": []
    },
    {
      "cell_type": "markdown",
      "metadata": {
        "id": "r7E1sYWYTaFy"
      },
      "source": [
        "Let's see what kind of data we have."
      ]
    },
    {
      "cell_type": "code",
      "metadata": {
        "id": "tgJEaiLhtp7Y"
      },
      "source": [
        "df.head()"
      ],
      "execution_count": null,
      "outputs": []
    },
    {
      "cell_type": "markdown",
      "metadata": {
        "id": "livpNZemtxGu"
      },
      "source": [
        "The dataset includes a total of **14 attributes**:\n",
        "\n",
        "- **age**: The person's age in years\n",
        "\n",
        "- **sex**: The person's sex (1 = male, 0 = female)\n",
        "\n",
        "- **cp**: The chest pain experienced (Value 1: typical angina, Value 2: atypical angina, Value 3: non-anginal pain, Value 4: asymptomatic)\n",
        "\n",
        "- **trestbps**: The person's resting blood pressure (mm Hg on admission to the hospital)\n",
        "\n",
        "- **chol**: The person's cholesterol measurement in mg/dl\n",
        "\n",
        "- **fbs**: The person's fasting blood sugar (> 120 mg/dl, 1 = true; 0 = false)\n",
        "\n",
        "- **restecg**: Resting electrocardiographic measurement (0 = normal, 1 = having ST-T wave abnormality, 2 = showing probable or definite left ventricular hypertrophy by Estes' criteria)\n",
        "\n",
        "- **thalach**: The person's maximum heart rate achieved\n",
        "\n",
        "- **exang**: Exercise induced angina (1 = yes; 0 = no)\n",
        "\n",
        "- **oldpeak**: ST depression induced by exercise relative to rest ('ST' relates to positions on the ECG plot. See more here)\n",
        "\n",
        "- **slope**: the slope of the peak exercise ST segment (Value 1: upsloping, Value 2: flat, Value 3: downsloping)\n",
        "\n",
        "- **ca**: The number of major vessels (0-3)\n",
        "\n",
        "- **thal**: A blood disorder called thalassemia (3 = normal; 6 = fixed defect; 7 = reversable defect)\n",
        "\n",
        "- **target**: Heart disease (0 = no, 1 = yes)"
      ]
    },
    {
      "cell_type": "code",
      "metadata": {
        "id": "rGW7ctuMvWMi"
      },
      "source": [
        "print(\"Total number of patient data:\" , len(df))"
      ],
      "execution_count": null,
      "outputs": []
    },
    {
      "cell_type": "markdown",
      "metadata": {
        "id": "wmPTzwIWvnf8"
      },
      "source": [
        "So, we have a total of 303 patient data included in this dataset, which is considered fairly small. "
      ]
    },
    {
      "cell_type": "markdown",
      "metadata": {
        "id": "DZ5aBEpnTw7h"
      },
      "source": [
        "For readability, let's change the column names that can be more easily understood. "
      ]
    },
    {
      "cell_type": "code",
      "metadata": {
        "id": "ocJz442mTwZ1"
      },
      "source": [
        "df.columns = ['age', \n",
        "              'sex', \n",
        "              'chest_pain_type', \n",
        "              'resting_blood_pressure', \n",
        "              'cholesterol', \n",
        "              'fasting_blood_sugar', \n",
        "              'rest_ecg', \n",
        "              'max_heart_rate_achieved',\n",
        "              'exercise_induced_angina', \n",
        "              'st_depression', \n",
        "              'st_slope', \n",
        "              'num_major_vessels', \n",
        "              'thalassemia', \n",
        "              'target']"
      ],
      "execution_count": null,
      "outputs": []
    },
    {
      "cell_type": "markdown",
      "metadata": {
        "id": "EvWLAcX3vsvp"
      },
      "source": [
        "## 04. Explore the Dataset"
      ]
    },
    {
      "cell_type": "code",
      "metadata": {
        "id": "cC4MqbZ704ud"
      },
      "source": [
        "print(\"TOTAL NUMBER OF PATIENTS       :\", len(df))\n",
        "print(\"Patients with    heart disease :\", df.target.value_counts()[1])\n",
        "print(\"Patients without heart disease :\", df.target.value_counts()[0])\n",
        "print()\n",
        "sns.countplot(x='target', data=df, palette='BrBG')\n",
        "plt.xticks(ticks=[0, 1], labels=['Without HD', 'With HD'])\n",
        "\n",
        "plt.show()"
      ],
      "execution_count": null,
      "outputs": []
    },
    {
      "cell_type": "markdown",
      "metadata": {
        "id": "fVKsdn0jUtAx"
      },
      "source": [
        "We see that we have an approximately even balance between two target groups."
      ]
    },
    {
      "cell_type": "code",
      "metadata": {
        "id": "ed9_RrS16gIR"
      },
      "source": [
        "# Male Patients\n",
        "male_table = df[df.sex == 1]\n",
        "male_count = len(male_table)\n",
        "male_patients = male_table.target.value_counts()\n",
        "print(\"Number of MALE patients :\", male_count)\n",
        "print(\"WITH    heart disease   :\", male_patients[1])\n",
        "print(\"WITHOUT heart disease   :\", male_patients[0])\n",
        "print()\n",
        "\n",
        "# Female Patients\n",
        "female_table = df[df.sex == 0]\n",
        "female_count = len(female_table)\n",
        "female_patients = female_table.target.value_counts()\n",
        "print(\"Number of FEMALE patients :\", female_count)\n",
        "print(\"WITH    heart disease     :\", female_patients[1])\n",
        "print(\"WITHOUT heart disease     :\", female_patients[0])\n",
        "print()"
      ],
      "execution_count": null,
      "outputs": []
    },
    {
      "cell_type": "markdown",
      "metadata": {
        "id": "iCfj7z4wdsHA"
      },
      "source": [
        "Notice that we have a significantly higher number of male patients, but female patients tend to have higher probability of a heart disease based on our current dataset. "
      ]
    },
    {
      "cell_type": "code",
      "metadata": {
        "id": "XxX9pPr_Uny_"
      },
      "source": [
        "# Percentage\n",
        "print(\"Percentage of Male Patients   : {:.2f}%\"\n",
        "       .format(male_count / (male_count + female_count) * 100))\n",
        "print(\"Percentage of Female Patients : {:.2f}%\"\n",
        "       .format(female_count / (male_count + female_count) * 100))"
      ],
      "execution_count": null,
      "outputs": []
    },
    {
      "cell_type": "markdown",
      "metadata": {
        "id": "iZy2SB4DU6Hw"
      },
      "source": [
        "Let's have a look at the mean values of each attribute grouped by target groups."
      ]
    },
    {
      "cell_type": "code",
      "metadata": {
        "id": "chajUplbLlZh"
      },
      "source": [
        "df.groupby('target').mean()"
      ],
      "execution_count": null,
      "outputs": []
    },
    {
      "cell_type": "markdown",
      "metadata": {
        "id": "EdA4J_67mK-S"
      },
      "source": [
        "### Visualizations\n",
        "We now create some visualizations to better understand our data."
      ]
    },
    {
      "cell_type": "code",
      "metadata": {
        "id": "BlwVG1m-MTC0"
      },
      "source": [
        "pd.crosstab(df.sex, df.target).plot(kind=\"bar\",\n",
        "                                   figsize=(10,7), \n",
        "                                   color=['#dbb972', '#76c6ba'],\n",
        "                                   alpha=0.65)\n",
        "\n",
        "plt.title('Heart Disease Frequency for Sex', fontweight='bold', fontsize='x-large')\n",
        "plt.xlabel('Sex')\n",
        "plt.xticks(ticks=[0, 1], labels=['Female', 'Male'], rotation=0)\n",
        "plt.ylabel('Frequency')\n",
        "plt.legend(['Without HD', 'With HD'])\n",
        "\n",
        "plt.show()"
      ],
      "execution_count": null,
      "outputs": []
    },
    {
      "cell_type": "markdown",
      "metadata": {
        "id": "E9AzVblLmgSH"
      },
      "source": [
        "Once again, we can clearly see that we have more male patients in total, but we also have a higher proportion of female patients with heart diseases.\n",
        "\n",
        "Now, let's look at the age distribution of patients."
      ]
    },
    {
      "cell_type": "code",
      "metadata": {
        "id": "tho6JkhNrWS3"
      },
      "source": [
        "sns.set(rc={ 'figure.figsize':(16.0, 8.0) }, style='white',\n",
        "        font_scale=0.8)\n",
        "\n",
        "\n",
        "ax = sns.countplot(x='age', data=df, color='#76c6ba', alpha=0.65)\n",
        "ax.set(xlabel=\"Age\", ylabel=\"Frequency\")\n",
        "plt.title('Patient Age Distribution', fontweight='bold', fontsize='x-large')\n",
        "\n",
        "plt.show()"
      ],
      "execution_count": null,
      "outputs": []
    },
    {
      "cell_type": "markdown",
      "metadata": {
        "id": "iUVsBRAa73YN"
      },
      "source": [
        "We can see that we have a high percentage of patients in their 50s and very low percentage of them in their 20s and 30s, which makes sense since older age groups generally have higher risks of having a heart disease."
      ]
    },
    {
      "cell_type": "code",
      "metadata": {
        "id": "OeizRFaMXL66"
      },
      "source": [
        "pd.crosstab(df.age, df.target).plot(kind=\"bar\",\n",
        "                                    figsize=(20,7), \n",
        "                                    color=['#dbb972', '#76c6ba'],\n",
        "                                    alpha=0.65)\n",
        "\n",
        "plt.title('Heart Disease Frequency for Ages', \n",
        "          fontweight='bold', \n",
        "          fontsize='x-large')\n",
        "plt.xlabel('Age')\n",
        "plt.ylabel('Frequency')\n",
        "plt.legend(['Without HD', 'With HD'])\n",
        "\n",
        "plt.show()"
      ],
      "execution_count": null,
      "outputs": []
    },
    {
      "cell_type": "markdown",
      "metadata": {
        "id": "xBgmxXzn8w4n"
      },
      "source": [
        "Interestingly, from this chart, we can notice that a fair amount of patients in their 40s were also diagnosed with a heart disease. "
      ]
    },
    {
      "cell_type": "code",
      "metadata": {
        "id": "GgRLv9vKhv7W"
      },
      "source": [
        "ax = sns.relplot(data=df, x=\"age\", y=\"max_heart_rate_achieved\", hue=\"target\", \n",
        "                 palette=\"BrBG\",\n",
        "                 height=6)\n",
        "\n",
        "ax.set(xlabel=\"Age\", ylabel=\"Maximum Heart Rate\")\n",
        "plt.title('Maximum Heart Rate and Age', fontweight='bold', fontsize='x-large')\n",
        "plt.show()"
      ],
      "execution_count": null,
      "outputs": []
    },
    {
      "cell_type": "markdown",
      "metadata": {
        "id": "Eijr_VRgAMJp"
      },
      "source": [
        "While the pattern is not completely clear from this dataset, the chart does show that patients with a heart disease tend to have slightly higher maximum heart rates."
      ]
    },
    {
      "cell_type": "code",
      "metadata": {
        "id": "sglR4CJonhPe"
      },
      "source": [
        "pd.crosstab(df.fasting_blood_sugar, df.target).plot(kind=\"bar\",\n",
        "                                                    figsize=(15,6),\n",
        "                                                    color=['#dbb972','#76c6ba'],\n",
        "                                                    alpha=0.65)\n",
        "\n",
        "plt.title('Heart Disease Frequency Based on Fasting Blood Sugar Levels', fontweight='bold', \n",
        "          fontsize='x-large')\n",
        "plt.xlabel('Fasting Blood Sugar Level')\n",
        "plt.xticks(ticks=[0, 1], \n",
        "           labels=['0 (Less than or equal to 120 mg/dl)', '1 (Greater than 120 mg/dl)'], \n",
        "           rotation=0)\n",
        "plt.ylabel('Frequency')\n",
        "plt.legend(['Without HD', 'With HD'])\n",
        "\n",
        "plt.show()"
      ],
      "execution_count": null,
      "outputs": []
    },
    {
      "cell_type": "markdown",
      "metadata": {
        "id": "KsWGkolQJ1mM"
      },
      "source": [
        "The chart above was also quite surprising because I assumed higher fasting blood sugar levels are naturally correlated with higher risk of having a heart disease. However, the chart does not seem to show such correlations, and instead suggests the opposite is true. Once again, this may be due to small dataset size."
      ]
    },
    {
      "cell_type": "code",
      "metadata": {
        "id": "-LweFd_UpJK6"
      },
      "source": [
        "pd.crosstab(df.chest_pain_type, df.target).plot(kind=\"bar\",\n",
        "                                                figsize=(15,6),\n",
        "                                                color=['#dbb972','#76c6ba'],\n",
        "                                                alpha=0.65)\n",
        "\n",
        "plt.title('Heart Disease Frequency According To Chest Pain Type', fontweight='bold', \n",
        "          fontsize='x-large')\n",
        "plt.xlabel('Chest Pain Type')\n",
        "plt.xticks(ticks=[0, 1, 2, 3], \n",
        "           labels=['0 (typical angina)', '1 (atypical angina)', \n",
        "                   '2 (non-anginal pain)', '3 (asymptomatic)'], \n",
        "           rotation=0)\n",
        "plt.ylabel('Frequency')\n",
        "plt.legend(['Without HD', 'With HD'])\n",
        "\n",
        "plt.show()"
      ],
      "execution_count": null,
      "outputs": []
    },
    {
      "cell_type": "markdown",
      "metadata": {
        "id": "q-8Y1AI6Kblo"
      },
      "source": [
        "This chart seems to strongly shows that having a chest pain type of 1, 2, or 3 suggests high probability of a heart disease. "
      ]
    },
    {
      "cell_type": "markdown",
      "metadata": {
        "id": "BIQ5zoiEAYhK"
      },
      "source": [
        "## 05. Data Preprocessing"
      ]
    },
    {
      "cell_type": "code",
      "metadata": {
        "id": "a9UBq3dch8_Q"
      },
      "source": [
        "print(df.dtypes)\n",
        "\n",
        "# Change the following datatype into categorial variables / objects\n",
        "df['sex'] = df['sex'].astype('object')\n",
        "df['chest_pain_type'] = df['chest_pain_type'].astype('object')\n",
        "df['fasting_blood_sugar'] = df['fasting_blood_sugar'].astype('object')\n",
        "df['rest_ecg'] = df['rest_ecg'].astype('object')\n",
        "df['exercise_induced_angina'] = df['exercise_induced_angina'].astype('object')\n",
        "df['st_slope'] = df['st_slope'].astype('object')\n",
        "df['thalassemia'] = df['thalassemia'].astype('object')\n",
        "\n",
        "print(\"*\"*50)\n",
        "print(df.dtypes)"
      ],
      "execution_count": null,
      "outputs": []
    },
    {
      "cell_type": "markdown",
      "metadata": {
        "id": "C8BxYFUPlZpq"
      },
      "source": [
        "With these columns, we now create some dummy variables to better understand some model analysis later on."
      ]
    },
    {
      "cell_type": "code",
      "metadata": {
        "id": "XnMbYziggtjq"
      },
      "source": [
        "df = pd.get_dummies(df)\n",
        "print(df.columns)"
      ],
      "execution_count": null,
      "outputs": []
    },
    {
      "cell_type": "markdown",
      "metadata": {
        "id": "DYglfn7Nlpy9"
      },
      "source": [
        "Here we can see the dummy variables. For example, the variable, \"sex\", which had 0/1 representing female/male, has turned into two variables sex_0 and sex_1 (sex_0: 1 and sex_1: 0 means the patient is female and vice versa)."
      ]
    },
    {
      "cell_type": "code",
      "metadata": {
        "id": "AJkswyRhClqp"
      },
      "source": [
        "# Get Y values\n",
        "y = df[\"target\"]\n",
        "\n",
        "# Normalize and get X values\n",
        "x_data = df.drop(['target'], axis=1)\n",
        "x = (x_data - np.min(x_data)) / (np.max(x_data) - np.min(x_data)).values"
      ],
      "execution_count": null,
      "outputs": []
    },
    {
      "cell_type": "code",
      "metadata": {
        "id": "iUcwdIDhHklB"
      },
      "source": [
        "x_train, x_test, y_train, y_test = train_test_split(x, y, test_size = 0.2, random_state=0)\n",
        "\n",
        "# X values\n",
        "print(x_train.head(), \"\\n\")\n",
        "print(x_test.head(), \"\\n\")\n",
        "print(\"*\"*50)\n",
        "\n",
        "# Y values\n",
        "print(y_train, \"\\n\")\n",
        "print(y_test, \"\\n\")"
      ],
      "execution_count": null,
      "outputs": []
    },
    {
      "cell_type": "markdown",
      "metadata": {
        "id": "C2BH-epkrNhp"
      },
      "source": [
        "## 06. Model Creation and Prediction"
      ]
    },
    {
      "cell_type": "code",
      "metadata": {
        "id": "xSU0D7HmrQZG"
      },
      "source": [
        "# importing alll the necessary packages to use the various classification algorithms\n",
        "from sklearn.linear_model import LogisticRegression  # for Logistic Regression algorithm\n",
        "from sklearn.ensemble import RandomForestClassifier  # for Random Forest Classifier\n",
        "from sklearn.tree import DecisionTreeClassifier      # for using Decision Tree Algoithm\n",
        "from sklearn import svm                              # for Support Vector Machine (SVM) Algorithm\n",
        "from sklearn import metrics                          # for checking the model accuracy"
      ],
      "execution_count": null,
      "outputs": []
    },
    {
      "cell_type": "code",
      "metadata": {
        "id": "We0_VENIqwFb"
      },
      "source": [
        "# Use Support Vector Machine\n",
        "model = svm.SVC()\n",
        "\n",
        "# Train the algorithm with training input and output data\n",
        "model.fit(x_train, y_train) \n",
        "\n",
        "# Pass the testing data to the trained model for prediction\n",
        "prediction = model.predict(x_test) \n",
        "\n",
        "print('The accuracy of the SVM Model is:', metrics.accuracy_score(prediction, y_test))"
      ],
      "execution_count": null,
      "outputs": []
    },
    {
      "cell_type": "code",
      "metadata": {
        "id": "y5Oxi9n0tQ4y"
      },
      "source": [
        "model2 = LogisticRegression()\n",
        "\n",
        "# Train the algorithm with training input and output data\n",
        "model2.fit(x_train, y_train) \n",
        "\n",
        "# Pass the testing data to the trained model for prediction\n",
        "prediction = model2.predict(x_test) \n",
        "\n",
        "print('The accuracy of the Logistic Regression Model is', metrics.accuracy_score(prediction, y_test))"
      ],
      "execution_count": null,
      "outputs": []
    },
    {
      "cell_type": "code",
      "metadata": {
        "id": "WBMdtCbzrxrN"
      },
      "source": [
        "model3 = RandomForestClassifier(n_estimators = 1000, random_state = 1)\n",
        "\n",
        "# Train the algorithm with training input and output data\n",
        "model3.fit(x_train, y_train)\n",
        "\n",
        "# Pass the testing data to the trained model for prediction\n",
        "prediction = model3.predict(x_test) \n",
        "\n",
        "print('The accuracy of the Random Forest Classifier Model is', metrics.accuracy_score(prediction, y_test))"
      ],
      "execution_count": null,
      "outputs": []
    },
    {
      "cell_type": "code",
      "metadata": {
        "id": "rw0Yo5WxtUXE"
      },
      "source": [
        "from sklearn.metrics import roc_curve, auc #for model evaluation\n",
        "\n",
        "y_pred_quant = model3.predict_proba(x_test)[:, 1]\n",
        "fpr, tpr, thresholds = roc_curve(y_test, y_pred_quant)\n",
        "\n",
        "fig, ax = plt.subplots()\n",
        "ax.plot(fpr, tpr)\n",
        "ax.plot([0, 1], [0, 1], transform=ax.transAxes, ls=\"--\", c=\".3\")\n",
        "plt.xlim([0.0, 1.0])\n",
        "plt.ylim([0.0, 1.0])\n",
        "plt.rcParams['font.size'] = 12\n",
        "plt.title('ROC curve for diabetes classifier')\n",
        "plt.xlabel('False Positive Rate (1 - Specificity)')\n",
        "plt.ylabel('True Positive Rate (Sensitivity)')\n",
        "plt.grid(True)"
      ],
      "execution_count": null,
      "outputs": []
    },
    {
      "cell_type": "code",
      "metadata": {
        "id": "9oz4QwrWtuWP"
      },
      "source": [
        "# Area under the curve\n",
        "auc(fpr, tpr)"
      ],
      "execution_count": null,
      "outputs": []
    },
    {
      "cell_type": "code",
      "metadata": {
        "id": "lys5A7ajv35Z"
      },
      "source": [
        "from sklearn.metrics import confusion_matrix #for model evaluation\n",
        "\n",
        "confusion_matrix = confusion_matrix(y_test, prediction)\n",
        "\n",
        "sensitivity = confusion_matrix[0,0]/(confusion_matrix[0,0]+confusion_matrix[1,0])\n",
        "print('Sensitivity : ', sensitivity )\n",
        "\n",
        "specificity = confusion_matrix[1,1]/(confusion_matrix[1,1]+confusion_matrix[0,1])\n",
        "print('Specificity : ', specificity)"
      ],
      "execution_count": null,
      "outputs": []
    },
    {
      "cell_type": "code",
      "metadata": {
        "id": "Dq3VcTH952EP"
      },
      "source": [
        "!pip install eli5\n",
        "!pip install shap\n",
        "!pip install pdpbox"
      ],
      "execution_count": null,
      "outputs": []
    },
    {
      "cell_type": "code",
      "metadata": {
        "id": "jkkbEklv5gV2"
      },
      "source": [
        "import eli5 \n",
        "from eli5.sklearn import PermutationImportance\n",
        "import shap\n",
        "from pdpbox import pdp, info_plots\n",
        "\n",
        "perm = PermutationImportance(model3, random_state=1).fit(x_test, y_test)\n",
        "eli5.show_weights(perm, feature_names=x_test.columns.tolist())"
      ],
      "execution_count": null,
      "outputs": []
    }
  ]
}